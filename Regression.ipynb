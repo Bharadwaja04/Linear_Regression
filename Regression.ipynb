{
 "cells": [
  {
   "cell_type": "markdown",
   "id": "0578156c",
   "metadata": {},
   "source": [
    "## The aim of this project is to build the linear_regression function without using the numpy and pandas. Using classes and objects "
   ]
  },
  {
   "cell_type": "code",
   "execution_count": 1,
   "id": "dc451a15",
   "metadata": {},
   "outputs": [
    {
     "name": "stdout",
     "output_type": "stream",
     "text": [
      "Defaulting to user installation because normal site-packages is not writeable\n",
      "Requirement already satisfied: matplotlib in /Users/bharadwaj/Library/Python/3.9/lib/python/site-packages (3.9.4)\n",
      "Requirement already satisfied: contourpy>=1.0.1 in /Users/bharadwaj/Library/Python/3.9/lib/python/site-packages (from matplotlib) (1.3.0)\n",
      "Requirement already satisfied: cycler>=0.10 in /Users/bharadwaj/Library/Python/3.9/lib/python/site-packages (from matplotlib) (0.12.1)\n",
      "Requirement already satisfied: fonttools>=4.22.0 in /Users/bharadwaj/Library/Python/3.9/lib/python/site-packages (from matplotlib) (4.59.1)\n",
      "Requirement already satisfied: kiwisolver>=1.3.1 in /Users/bharadwaj/Library/Python/3.9/lib/python/site-packages (from matplotlib) (1.4.7)\n",
      "Requirement already satisfied: numpy>=1.23 in /Users/bharadwaj/Library/Python/3.9/lib/python/site-packages (from matplotlib) (2.0.2)\n",
      "Requirement already satisfied: packaging>=20.0 in /Users/bharadwaj/Library/Python/3.9/lib/python/site-packages (from matplotlib) (25.0)\n",
      "Requirement already satisfied: pillow>=8 in /Users/bharadwaj/Library/Python/3.9/lib/python/site-packages (from matplotlib) (11.3.0)\n",
      "Requirement already satisfied: pyparsing>=2.3.1 in /Users/bharadwaj/Library/Python/3.9/lib/python/site-packages (from matplotlib) (3.2.3)\n",
      "Requirement already satisfied: python-dateutil>=2.7 in /Users/bharadwaj/Library/Python/3.9/lib/python/site-packages (from matplotlib) (2.9.0.post0)\n",
      "Requirement already satisfied: importlib-resources>=3.2.0 in /Users/bharadwaj/Library/Python/3.9/lib/python/site-packages (from matplotlib) (6.5.2)\n",
      "Requirement already satisfied: zipp>=3.1.0 in /Users/bharadwaj/Library/Python/3.9/lib/python/site-packages (from importlib-resources>=3.2.0->matplotlib) (3.23.0)\n",
      "Requirement already satisfied: six>=1.5 in /Library/Developer/CommandLineTools/Library/Frameworks/Python3.framework/Versions/3.9/lib/python3.9/site-packages (from python-dateutil>=2.7->matplotlib) (1.15.0)\n",
      "\n",
      "\u001b[1m[\u001b[0m\u001b[34;49mnotice\u001b[0m\u001b[1;39;49m]\u001b[0m\u001b[39;49m A new release of pip is available: \u001b[0m\u001b[31;49m25.1.1\u001b[0m\u001b[39;49m -> \u001b[0m\u001b[32;49m25.2\u001b[0m\n",
      "\u001b[1m[\u001b[0m\u001b[34;49mnotice\u001b[0m\u001b[1;39;49m]\u001b[0m\u001b[39;49m To update, run: \u001b[0m\u001b[32;49m/Library/Developer/CommandLineTools/usr/bin/python3 -m pip install --upgrade pip\u001b[0m\n",
      "Defaulting to user installation because normal site-packages is not writeable\n",
      "Requirement already satisfied: pandas in /Users/bharadwaj/Library/Python/3.9/lib/python/site-packages (2.3.1)\n",
      "Requirement already satisfied: numpy>=1.22.4 in /Users/bharadwaj/Library/Python/3.9/lib/python/site-packages (from pandas) (2.0.2)\n",
      "Requirement already satisfied: python-dateutil>=2.8.2 in /Users/bharadwaj/Library/Python/3.9/lib/python/site-packages (from pandas) (2.9.0.post0)\n",
      "Requirement already satisfied: pytz>=2020.1 in /Users/bharadwaj/Library/Python/3.9/lib/python/site-packages (from pandas) (2025.2)\n",
      "Requirement already satisfied: tzdata>=2022.7 in /Users/bharadwaj/Library/Python/3.9/lib/python/site-packages (from pandas) (2025.2)\n",
      "Requirement already satisfied: six>=1.5 in /Library/Developer/CommandLineTools/Library/Frameworks/Python3.framework/Versions/3.9/lib/python3.9/site-packages (from python-dateutil>=2.8.2->pandas) (1.15.0)\n",
      "\n",
      "\u001b[1m[\u001b[0m\u001b[34;49mnotice\u001b[0m\u001b[1;39;49m]\u001b[0m\u001b[39;49m A new release of pip is available: \u001b[0m\u001b[31;49m25.1.1\u001b[0m\u001b[39;49m -> \u001b[0m\u001b[32;49m25.2\u001b[0m\n",
      "\u001b[1m[\u001b[0m\u001b[34;49mnotice\u001b[0m\u001b[1;39;49m]\u001b[0m\u001b[39;49m To update, run: \u001b[0m\u001b[32;49m/Library/Developer/CommandLineTools/usr/bin/python3 -m pip install --upgrade pip\u001b[0m\n"
     ]
    }
   ],
   "source": [
    "!pip install matplotlib\n",
    "!pip install pandas"
   ]
  },
  {
   "cell_type": "code",
   "execution_count": 2,
   "id": "b6e7bc46",
   "metadata": {},
   "outputs": [],
   "source": [
    "import matplotlib.pyplot as plt\n",
    "import pandas as pd\n",
    "%matplotlib inline"
   ]
  },
  {
   "cell_type": "code",
   "execution_count": 26,
   "id": "6389b71a",
   "metadata": {},
   "outputs": [],
   "source": [
    "import pandas as pd\n",
    "\n",
    "df = pd.DataFrame({\n",
    "    'Age': [20, 22, 25, 27, 30, 32, 35, 37, 40, 45],\n",
    "    'Experience': [1, 2, 4, 5, 7, 9, 10, 12, 15, 20]\n",
    "})\n"
   ]
  },
  {
   "cell_type": "code",
   "execution_count": 27,
   "id": "3e1dae9f",
   "metadata": {},
   "outputs": [
    {
     "data": {
      "text/plain": [
       "<matplotlib.collections.PathCollection at 0x1124ee400>"
      ]
     },
     "execution_count": 27,
     "metadata": {},
     "output_type": "execute_result"
    },
    {
     "data": {
      "image/png": "[encoded data removed]",
      "text/plain": [
       "<Figure size 640x480 with 1 Axes>"
      ]
     },
     "metadata": {},
     "output_type": "display_data"
    }
   ],
   "source": [
    "plt.scatter(df['Age'], df['Experience'], marker='o')"
   ]
  },
  {
   "cell_type": "code",
   "execution_count": 107,
   "id": "799db786",
   "metadata": {},
   "outputs": [],
   "source": [
    "import numpy as np\n",
    "class linear_reg():\n",
    "    def __init__(self,epochs,lr):\n",
    "        self.epochs = epochs\n",
    "        self.lr = lr\n",
    "    #Gradient Descent\n",
    "    # def fit(self,X_train, y_train):\n",
    "\n",
    "\n",
    "    #     #need to predict m and b\n",
    "    #     self.m = 0\n",
    "    #     self.b = 0\n",
    "    #     n = len(X_train)\n",
    "    #     ssd = []\n",
    "    #     for _ in range(self.epochs):\n",
    "    #         y_pred = self.m * X_train + self.b\n",
    "    #         #dJ/dm and dJ/db\n",
    "    #         D_m = (-2/n)*sum(X_train * (y_train - (self.m *(X_train) + self.b)))\n",
    "    #         D_b = (-2/n)*sum(y_train - (self.m *(X_train) + self.b))\n",
    "\n",
    "    #         self.m = self.m - self.lr * D_m\n",
    "    #         self.b = self.b - self.lr * D_b\n",
    "\n",
    "    #         #calculate the error\n",
    "    #         error = (1/n) * sum((y_train - y_pred)**2)\n",
    "    #         ssd.append(error)\n",
    "\n",
    "    \n",
    "    #     plt.plot(ssd)\n",
    "    #     plt.xlabel(\"Epochs\")\n",
    "    #     plt.ylabel(\"Error\")\n",
    "\n",
    "    #     print(\"m:\",self.m)\n",
    "    #     print(\"b:\",self.b)\n",
    "\n",
    "    #Using the Normal Equation\n",
    "    def fit(self,X_train, y_train):\n",
    "        X_mean = np.mean(X_train)\n",
    "        y_mean = np.mean(y_train)\n",
    "\n",
    "        self.m = np.sum((X_train - X_mean) * (y_train - y_mean)) / np.sum((X_train - X_mean)**2)\n",
    "        self.b = y_mean - self.m * X_mean\n",
    "\n",
    "        print(\"m:\",self.m)\n",
    "        print(\"b:\",self.b)\n",
    "    \n",
    "    def plot(self,X_train,y_train):\n",
    "        plt.scatter(X_train, y_train, marker='o')\n",
    "        y_pred = self.m * X_train + self.b\n",
    "        plt.plot(X_train, y_pred, color='red')\n",
    "        plt.xlabel(\"X\")\n",
    "        plt.ylabel(\"Y\")\n",
    "        plt.show()\n",
    "    \n",
    "    def predict(self, X_test):\n",
    "        #use the m nd b to predict after using the fit() function\n",
    "        y_pred = self.m * X_test + self.b\n",
    "        return y_pred"
   ]
  },
  {
   "cell_type": "code",
   "execution_count": 108,
   "id": "5afb2d92",
   "metadata": {},
   "outputs": [],
   "source": [
    "l = linear_reg(epochs=100000,lr=0.0001)"
   ]
  },
  {
   "cell_type": "code",
   "execution_count": 109,
   "id": "c9d76eb9",
   "metadata": {},
   "outputs": [
    {
     "name": "stdout",
     "output_type": "stream",
     "text": [
      "m: 0.7370313302516692\n",
      "b: -14.569080636877246\n"
     ]
    }
   ],
   "source": [
    "l.fit(df[\"Age\"],df[\"Experience\"])"
   ]
  },
  {
   "cell_type": "code",
   "execution_count": 110,
   "id": "bdb37b64",
   "metadata": {},
   "outputs": [
    {
     "data": {
      "image/png": "[encoded data removed]",
      "text/plain": [
       "<Figure size 640x480 with 1 Axes>"
      ]
     },
     "metadata": {},
     "output_type": "display_data"
    }
   ],
   "source": [
    "l.plot(df[\"Age\"],df[\"Experience\"])"
   ]
  },
  {
   "cell_type": "code",
   "execution_count": 106,
   "id": "ae24c5c1",
   "metadata": {},
   "outputs": [
    {
     "data": {
      "text/plain": [
       "0     7.993746\n",
       "1    10.964872\n",
       "2    13.935998\n",
       "dtype: float64"
      ]
     },
     "execution_count": 106,
     "metadata": {},
     "output_type": "execute_result"
    }
   ],
   "source": [
    "l.predict(pd.Series([30,35,40]))"
   ]
  },
  {
   "cell_type": "code",
   "execution_count": null,
   "id": "cf2aaabe",
   "metadata": {},
   "outputs": [],
   "source": []
  }
 ],
 "metadata": {
  "kernelspec": {
   "display_name": "Python 3",
   "language": "python",
   "name": "python3"
  },
  "language_info": {
   "codemirror_mode": {
    "name": "ipython",
    "version": 3
   },
   "file_extension": ".py",
   "mimetype": "text/x-python",
   "name": "python",
   "nbconvert_exporter": "python",
   "pygments_lexer": "ipython3",
   "version": "3.9.6"
  }
 },
 "nbformat": 4,
 "nbformat_minor": 5
}
